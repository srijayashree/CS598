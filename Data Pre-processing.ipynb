{
 "cells": [
  {
   "cell_type": "code",
   "execution_count": 26,
   "metadata": {},
   "outputs": [],
   "source": [
    "import pandas as pd\n",
    "from sklearn.model_selection import train_test_split"
   ]
  },
  {
   "cell_type": "code",
   "execution_count": 27,
   "metadata": {},
   "outputs": [],
   "source": [
    "# Load the dataset into a Pandas DataFrame\n",
    "df1 = pd.read_csv(\"C:/Users/vrl2k/Desktop/MS/Spring 2023/Deep Learning/Project/MIMIC db/DIAGNOSES_ICD.csv\")"
   ]
  },
  {
   "cell_type": "code",
   "execution_count": 28,
   "metadata": {},
   "outputs": [
    {
     "name": "stdout",
     "output_type": "stream",
     "text": [
      "SUBJECT_ID    46517\n",
      "ICD9_CODE      6984\n",
      "count            32\n",
      "dtype: int64\n"
     ]
    }
   ],
   "source": [
    "# Remove Duplicate and group by SUBJECT_ID\n",
    "\n",
    "unique_combinations = df1.groupby(['SUBJECT_ID', 'ICD9_CODE']).size().reset_index().rename(columns={0: 'count'}).nunique()\n",
    "\n",
    "print(unique_combinations)"
   ]
  },
  {
   "cell_type": "code",
   "execution_count": 29,
   "metadata": {},
   "outputs": [],
   "source": [
    "#Import ICD lookup file \n",
    "\n",
    "df_icd = pd.read_csv(\"C:/Users/vrl2k/Desktop/MS/Spring 2023/Deep Learning/Project/MIMIC db/D_ICD_DIAGNOSES.csv\")"
   ]
  },
  {
   "cell_type": "code",
   "execution_count": 30,
   "metadata": {},
   "outputs": [],
   "source": [
    "# Join patient_records with ICD9_CODE to add ICD short_title and long_title \n",
    "\n",
    "merged_df2 = pd.merge(df1, df_icd, on='ICD9_CODE')"
   ]
  },
  {
   "cell_type": "code",
   "execution_count": 31,
   "metadata": {},
   "outputs": [],
   "source": [
    "# Drop unnecessary fields \n",
    "\n",
    "merged_df2 = merged_df2.drop(['ROW_ID_y'], axis=1)"
   ]
  },
  {
   "cell_type": "code",
   "execution_count": 32,
   "metadata": {},
   "outputs": [],
   "source": [
    "# remove duplicate rows\n",
    "\n",
    "df_dedup = merged_df2.drop_duplicates()"
   ]
  },
  {
   "cell_type": "code",
   "execution_count": 33,
   "metadata": {},
   "outputs": [],
   "source": [
    "# replace all special characters with space in the 'text' column\n",
    "df_dedup['LONG_TITLE'] = df_dedup['LONG_TITLE'].replace('[^a-zA-Z0-9]', ' ', regex=True)\n",
    "df_dedup['SHORT_TITLE'] = df_dedup['SHORT_TITLE'].replace('[^a-zA-Z0-9]', ' ', regex=True)"
   ]
  },
  {
   "cell_type": "code",
   "execution_count": 34,
   "metadata": {},
   "outputs": [],
   "source": [
    "# remove numbers from column TEXT\n",
    "df_dedup['LONG_TITLE'] = df_dedup['LONG_TITLE'].replace({'\\d+': ''}, regex=True)\n",
    "df_dedup['SHORT_TITLE'] = df_dedup['SHORT_TITLE'].replace({'\\d+': ''}, regex=True)"
   ]
  },
  {
   "cell_type": "code",
   "execution_count": 35,
   "metadata": {},
   "outputs": [],
   "source": [
    "# replace numbers with space\n",
    "df_dedup = df_dedup.replace('\\d+', ' ', regex=True)"
   ]
  },
  {
   "cell_type": "code",
   "execution_count": 36,
   "metadata": {},
   "outputs": [],
   "source": [
    "df_dedup.LONG_TITLE = df_dedup.LONG_TITLE.str.replace('\\n', '')  # remove newline\n",
    "df_dedup.LONG_TITLE = df_dedup.LONG_TITLE.str.replace('\\r', '')  # carriage returns\n",
    "\n",
    "df_dedup.SHORT_TITLE = df_dedup.SHORT_TITLE.str.replace('\\n', '')  # remove newline\n",
    "df_dedup.SHORT_TITLE = df_dedup.SHORT_TITLE.str.replace('\\r', '')  # carriage returns"
   ]
  },
  {
   "cell_type": "code",
   "execution_count": 37,
   "metadata": {},
   "outputs": [],
   "source": [
    "df_dedup.LONG_TITLE = df_dedup.LONG_TITLE.str.lower()  # convert to lower case\n",
    "df_dedup.SHORT_TITLE = df_dedup.SHORT_TITLE.str.lower()  # convert to lower case"
   ]
  },
  {
   "cell_type": "code",
   "execution_count": 39,
   "metadata": {},
   "outputs": [],
   "source": [
    "df_clean = df_dedup "
   ]
  },
  {
   "cell_type": "code",
   "execution_count": 41,
   "metadata": {},
   "outputs": [
    {
     "data": {
      "text/html": [
       "<div>\n",
       "<style scoped>\n",
       "    .dataframe tbody tr th:only-of-type {\n",
       "        vertical-align: middle;\n",
       "    }\n",
       "\n",
       "    .dataframe tbody tr th {\n",
       "        vertical-align: top;\n",
       "    }\n",
       "\n",
       "    .dataframe thead th {\n",
       "        text-align: right;\n",
       "    }\n",
       "</style>\n",
       "<table border=\"1\" class=\"dataframe\">\n",
       "  <thead>\n",
       "    <tr style=\"text-align: right;\">\n",
       "      <th></th>\n",
       "      <th>ROW_ID_x</th>\n",
       "      <th>SUBJECT_ID</th>\n",
       "      <th>HADM_ID</th>\n",
       "      <th>SEQ_NUM</th>\n",
       "      <th>ICD9_CODE</th>\n",
       "      <th>SHORT_TITLE</th>\n",
       "      <th>LONG_TITLE</th>\n",
       "    </tr>\n",
       "  </thead>\n",
       "  <tbody>\n",
       "    <tr>\n",
       "      <th>0</th>\n",
       "      <td>1297</td>\n",
       "      <td>109</td>\n",
       "      <td>172335</td>\n",
       "      <td>1.0</td>\n",
       "      <td></td>\n",
       "      <td>mal hyp kid w cr kid v</td>\n",
       "      <td>hypertensive chronic kidney disease  malignant...</td>\n",
       "    </tr>\n",
       "    <tr>\n",
       "      <th>1</th>\n",
       "      <td>1311</td>\n",
       "      <td>109</td>\n",
       "      <td>173633</td>\n",
       "      <td>1.0</td>\n",
       "      <td></td>\n",
       "      <td>mal hyp kid w cr kid v</td>\n",
       "      <td>hypertensive chronic kidney disease  malignant...</td>\n",
       "    </tr>\n",
       "    <tr>\n",
       "      <th>2</th>\n",
       "      <td>1019</td>\n",
       "      <td>109</td>\n",
       "      <td>131345</td>\n",
       "      <td>1.0</td>\n",
       "      <td></td>\n",
       "      <td>mal hyp kid w cr kid v</td>\n",
       "      <td>hypertensive chronic kidney disease  malignant...</td>\n",
       "    </tr>\n",
       "    <tr>\n",
       "      <th>3</th>\n",
       "      <td>1039</td>\n",
       "      <td>109</td>\n",
       "      <td>131376</td>\n",
       "      <td>1.0</td>\n",
       "      <td></td>\n",
       "      <td>mal hyp kid w cr kid v</td>\n",
       "      <td>hypertensive chronic kidney disease  malignant...</td>\n",
       "    </tr>\n",
       "    <tr>\n",
       "      <th>4</th>\n",
       "      <td>1059</td>\n",
       "      <td>109</td>\n",
       "      <td>135923</td>\n",
       "      <td>1.0</td>\n",
       "      <td></td>\n",
       "      <td>mal hyp kid w cr kid v</td>\n",
       "      <td>hypertensive chronic kidney disease  malignant...</td>\n",
       "    </tr>\n",
       "  </tbody>\n",
       "</table>\n",
       "</div>"
      ],
      "text/plain": [
       "   ROW_ID_x  SUBJECT_ID  HADM_ID  SEQ_NUM ICD9_CODE             SHORT_TITLE  \\\n",
       "0      1297         109   172335      1.0            mal hyp kid w cr kid v   \n",
       "1      1311         109   173633      1.0            mal hyp kid w cr kid v   \n",
       "2      1019         109   131345      1.0            mal hyp kid w cr kid v   \n",
       "3      1039         109   131376      1.0            mal hyp kid w cr kid v   \n",
       "4      1059         109   135923      1.0            mal hyp kid w cr kid v   \n",
       "\n",
       "                                          LONG_TITLE  \n",
       "0  hypertensive chronic kidney disease  malignant...  \n",
       "1  hypertensive chronic kidney disease  malignant...  \n",
       "2  hypertensive chronic kidney disease  malignant...  \n",
       "3  hypertensive chronic kidney disease  malignant...  \n",
       "4  hypertensive chronic kidney disease  malignant...  "
      ]
     },
     "execution_count": 41,
     "metadata": {},
     "output_type": "execute_result"
    }
   ],
   "source": [
    "df_clean.head(5)"
   ]
  },
  {
   "cell_type": "code",
   "execution_count": 43,
   "metadata": {},
   "outputs": [
    {
     "data": {
      "text/plain": [
       "(634709, 7)"
      ]
     },
     "execution_count": 43,
     "metadata": {},
     "output_type": "execute_result"
    }
   ],
   "source": [
    "df_clean.shape"
   ]
  },
  {
   "cell_type": "code",
   "execution_count": 45,
   "metadata": {},
   "outputs": [],
   "source": [
    "# Select only recoreds with SUBJECT_ID record count 5 or less. \n",
    "\n",
    "counts = df_clean['SUBJECT_ID'].value_counts()\n",
    "df_filtered = df_clean[df_clean['SUBJECT_ID'].isin(counts[counts >= 5].index)]"
   ]
  },
  {
   "cell_type": "code",
   "execution_count": 47,
   "metadata": {},
   "outputs": [
    {
     "data": {
      "text/html": [
       "<div>\n",
       "<style scoped>\n",
       "    .dataframe tbody tr th:only-of-type {\n",
       "        vertical-align: middle;\n",
       "    }\n",
       "\n",
       "    .dataframe tbody tr th {\n",
       "        vertical-align: top;\n",
       "    }\n",
       "\n",
       "    .dataframe thead th {\n",
       "        text-align: right;\n",
       "    }\n",
       "</style>\n",
       "<table border=\"1\" class=\"dataframe\">\n",
       "  <thead>\n",
       "    <tr style=\"text-align: right;\">\n",
       "      <th></th>\n",
       "      <th>ROW_ID_x</th>\n",
       "      <th>SUBJECT_ID</th>\n",
       "      <th>HADM_ID</th>\n",
       "      <th>SEQ_NUM</th>\n",
       "      <th>ICD9_CODE</th>\n",
       "      <th>SHORT_TITLE</th>\n",
       "      <th>LONG_TITLE</th>\n",
       "    </tr>\n",
       "  </thead>\n",
       "  <tbody>\n",
       "    <tr>\n",
       "      <th>0</th>\n",
       "      <td>1297</td>\n",
       "      <td>109</td>\n",
       "      <td>172335</td>\n",
       "      <td>1.0</td>\n",
       "      <td></td>\n",
       "      <td>mal hyp kid w cr kid v</td>\n",
       "      <td>hypertensive chronic kidney disease  malignant...</td>\n",
       "    </tr>\n",
       "    <tr>\n",
       "      <th>1</th>\n",
       "      <td>1311</td>\n",
       "      <td>109</td>\n",
       "      <td>173633</td>\n",
       "      <td>1.0</td>\n",
       "      <td></td>\n",
       "      <td>mal hyp kid w cr kid v</td>\n",
       "      <td>hypertensive chronic kidney disease  malignant...</td>\n",
       "    </tr>\n",
       "    <tr>\n",
       "      <th>2</th>\n",
       "      <td>1019</td>\n",
       "      <td>109</td>\n",
       "      <td>131345</td>\n",
       "      <td>1.0</td>\n",
       "      <td></td>\n",
       "      <td>mal hyp kid w cr kid v</td>\n",
       "      <td>hypertensive chronic kidney disease  malignant...</td>\n",
       "    </tr>\n",
       "    <tr>\n",
       "      <th>3</th>\n",
       "      <td>1039</td>\n",
       "      <td>109</td>\n",
       "      <td>131376</td>\n",
       "      <td>1.0</td>\n",
       "      <td></td>\n",
       "      <td>mal hyp kid w cr kid v</td>\n",
       "      <td>hypertensive chronic kidney disease  malignant...</td>\n",
       "    </tr>\n",
       "    <tr>\n",
       "      <th>4</th>\n",
       "      <td>1059</td>\n",
       "      <td>109</td>\n",
       "      <td>135923</td>\n",
       "      <td>1.0</td>\n",
       "      <td></td>\n",
       "      <td>mal hyp kid w cr kid v</td>\n",
       "      <td>hypertensive chronic kidney disease  malignant...</td>\n",
       "    </tr>\n",
       "  </tbody>\n",
       "</table>\n",
       "</div>"
      ],
      "text/plain": [
       "   ROW_ID_x  SUBJECT_ID  HADM_ID  SEQ_NUM ICD9_CODE             SHORT_TITLE  \\\n",
       "0      1297         109   172335      1.0            mal hyp kid w cr kid v   \n",
       "1      1311         109   173633      1.0            mal hyp kid w cr kid v   \n",
       "2      1019         109   131345      1.0            mal hyp kid w cr kid v   \n",
       "3      1039         109   131376      1.0            mal hyp kid w cr kid v   \n",
       "4      1059         109   135923      1.0            mal hyp kid w cr kid v   \n",
       "\n",
       "                                          LONG_TITLE  \n",
       "0  hypertensive chronic kidney disease  malignant...  \n",
       "1  hypertensive chronic kidney disease  malignant...  \n",
       "2  hypertensive chronic kidney disease  malignant...  \n",
       "3  hypertensive chronic kidney disease  malignant...  \n",
       "4  hypertensive chronic kidney disease  malignant...  "
      ]
     },
     "execution_count": 47,
     "metadata": {},
     "output_type": "execute_result"
    }
   ],
   "source": [
    "df_filtered.head(5)"
   ]
  },
  {
   "cell_type": "code",
   "execution_count": 48,
   "metadata": {},
   "outputs": [
    {
     "data": {
      "text/plain": [
       "(612776, 7)"
      ]
     },
     "execution_count": 48,
     "metadata": {},
     "output_type": "execute_result"
    }
   ],
   "source": [
    "df_filtered.shape"
   ]
  },
  {
   "cell_type": "code",
   "execution_count": 49,
   "metadata": {},
   "outputs": [],
   "source": [
    "df_filtered.to_csv('C:/Users/vrl2k/Desktop/MS/Spring 2023/Deep Learning/Project/Proj_mimic_out/patient_cleanfile.csv', index=False)"
   ]
  },
  {
   "cell_type": "code",
   "execution_count": 50,
   "metadata": {},
   "outputs": [
    {
     "data": {
      "text/plain": [
       "ROW_ID_x       612776\n",
       "SUBJECT_ID      39760\n",
       "HADM_ID         52074\n",
       "SEQ_NUM            39\n",
       "ICD9_CODE           3\n",
       "SHORT_TITLE      6630\n",
       "LONG_TITLE       6714\n",
       "dtype: int64"
      ]
     },
     "execution_count": 50,
     "metadata": {},
     "output_type": "execute_result"
    }
   ],
   "source": [
    "df_filtered.nunique()"
   ]
  },
  {
   "cell_type": "code",
   "execution_count": null,
   "metadata": {},
   "outputs": [],
   "source": []
  }
 ],
 "metadata": {
  "kernelspec": {
   "display_name": "Python 3",
   "language": "python",
   "name": "python3"
  },
  "language_info": {
   "codemirror_mode": {
    "name": "ipython",
    "version": 3
   },
   "file_extension": ".py",
   "mimetype": "text/x-python",
   "name": "python",
   "nbconvert_exporter": "python",
   "pygments_lexer": "ipython3",
   "version": "3.6.5"
  }
 },
 "nbformat": 4,
 "nbformat_minor": 2
}

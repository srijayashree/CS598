{
 "cells": [
  {
   "cell_type": "code",
   "execution_count": 22,
   "metadata": {},
   "outputs": [],
   "source": [
    "import gzip\n",
    "# NOTEEVENTS.csv.gz is downloaded from MIMIC-iii. .gz is unzipped into .csv file. \n",
    "# specify the path of the gzip file\n",
    "gzip_path = \"C:/Users/vrl2k/Desktop/MS/Spring 2023/Deep Learning/Project/MIMIC db/NOTEEVENTS.csv.gz\"\n",
    "\n",
    "# open the gzip file for reading\n",
    "with gzip.open(gzip_path, \"rb\") as f_in:\n",
    "    # read the compressed data\n",
    "    compressed_data = f_in.read()\n",
    "\n",
    "# specify the path of the output file\n",
    "output_path = \"C:/Users/vrl2k/Desktop/MS/Spring 2023/Deep Learning/Project/MIMIC db/NOTEEVENTS.csv\"\n",
    "\n",
    "# decompress the data and write it to the output file\n",
    "with open(output_path, \"wb\") as f_out:\n",
    "    f_out.write(compressed_data)"
   ]
  },
  {
   "cell_type": "code",
   "execution_count": null,
   "metadata": {},
   "outputs": [],
   "source": []
  }
 ],
 "metadata": {
  "kernelspec": {
   "display_name": "Python 3",
   "language": "python",
   "name": "python3"
  },
  "language_info": {
   "codemirror_mode": {
    "name": "ipython",
    "version": 3
   },
   "file_extension": ".py",
   "mimetype": "text/x-python",
   "name": "python",
   "nbconvert_exporter": "python",
   "pygments_lexer": "ipython3",
   "version": "3.6.5"
  }
 },
 "nbformat": 4,
 "nbformat_minor": 2
}
